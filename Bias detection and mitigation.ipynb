{
 "cells": [
  {
   "cell_type": "markdown",
   "metadata": {},
   "source": [
    "Name: Abdul Wahab\n",
    "\n",
    "Email: SP21-RCS-001@ISBSTUDENT.COMSATS.EDU.PK"
   ]
  },
  {
   "cell_type": "markdown",
   "metadata": {},
   "source": [
    "### Table of Contents:\n",
    "* [1. Basic Data Exploration](#1.-Basic-Data-Exploration)\n",
    "\t* [1.1 Data Distribution](#1.1-Data-Distribution)\n",
    "\t* [1.2 Multicollinearity Analysis](#1.2-Multicollinearity-Analysis)\n",
    "* [2. Data Fairness Assessment](#2.-Data-Fairness-Assessment)\n",
    "\t* [2.1 Gender and Age Balance](#2.1-Gender-and-Age-Balance)\n",
    "\t* [2.2 Correlation Analysis](#2.2-Correlation-Analysis)\n",
    "* [3. Classification Model for Credit-Risk Levels](#3.-Classification-Model-for-Credit-Risk-Levels)\n",
    "* [4. Evaluation of Model Fairness](#4.-Evaluation-of-Model-Fairness)\n",
    "* [5. K-Anonymization for Data Anonymization](#5.-K-Anonymization-for-Data-Anonymization)"
   ]
  },
  {
   "cell_type": "code",
   "execution_count": 1,
   "metadata": {
    "id": "yVKLsbemurIk",
    "outputId": "cecde0a5-b0cf-416b-ecaa-b75b87a7a315"
   },
   "outputs": [],
   "source": [
    "#importing liberaries\n",
    "import sys\n",
    "import copy\n",
    "import pandas as pd\n",
    "import numpy as np\n",
    "from collections import defaultdict\n",
    "import matplotlib.pyplot as plt\n",
    "import seaborn as sns \n",
    "%matplotlib inline"
   ]
  },
  {
   "cell_type": "markdown",
   "metadata": {
    "id": "fZdErNVRurIl"
   },
   "source": [
    "## 1. Basic Data Exploration"
   ]
  },
  {
   "cell_type": "code",
   "execution_count": 2,
   "metadata": {},
   "outputs": [],
   "source": [
    "GERMAN_CREDIT_DATSET_COLUMN_NAMES = ['status', 'month', 'credit_history',\n",
    "                                     'purpose', 'credit_amount', 'savings', 'employment',\n",
    "                                     'investment_as_income_percentage', 'personal_status',\n",
    "                                     'other_debtors', 'residence_since', 'property', 'age',\n",
    "                                     'installment_plans', 'housing', 'number_of_credits',\n",
    "                                     'skill_level', 'people_liable_for', 'telephone',\n",
    "                                     'foreign_worker', 'credit']\n",
    "\n",
    "\n",
    "def load_dataset(filepath, column_names=GERMAN_CREDIT_DATSET_COLUMN_NAMES):\n",
    "    try:\n",
    "        dataframe = pd.read_csv(\n",
    "            filepath, sep=' ', header=None, names=column_names)\n",
    "    except IOError as err:\n",
    "        print(\"IOError: {}\".format(err))\n",
    "        sys.exit(1)\n",
    "    return dataframe"
   ]
  },
  {
   "cell_type": "code",
   "execution_count": 3,
   "metadata": {
    "colab": {
     "base_uri": "https://localhost:8080/",
     "height": 224
    },
    "id": "qCX_P-HGurIm",
    "outputId": "0381c349-200e-4127-d771-d7c431f60f32"
   },
   "outputs": [
    {
     "data": {
      "text/html": [
       "<div>\n",
       "<style scoped>\n",
       "    .dataframe tbody tr th:only-of-type {\n",
       "        vertical-align: middle;\n",
       "    }\n",
       "\n",
       "    .dataframe tbody tr th {\n",
       "        vertical-align: top;\n",
       "    }\n",
       "\n",
       "    .dataframe thead th {\n",
       "        text-align: right;\n",
       "    }\n",
       "</style>\n",
       "<table border=\"1\" class=\"dataframe\">\n",
       "  <thead>\n",
       "    <tr style=\"text-align: right;\">\n",
       "      <th></th>\n",
       "      <th>status</th>\n",
       "      <th>month</th>\n",
       "      <th>credit_history</th>\n",
       "      <th>purpose</th>\n",
       "      <th>credit_amount</th>\n",
       "      <th>savings</th>\n",
       "      <th>employment</th>\n",
       "      <th>investment_as_income_percentage</th>\n",
       "      <th>personal_status</th>\n",
       "      <th>other_debtors</th>\n",
       "      <th>...</th>\n",
       "      <th>property</th>\n",
       "      <th>age</th>\n",
       "      <th>installment_plans</th>\n",
       "      <th>housing</th>\n",
       "      <th>number_of_credits</th>\n",
       "      <th>skill_level</th>\n",
       "      <th>people_liable_for</th>\n",
       "      <th>telephone</th>\n",
       "      <th>foreign_worker</th>\n",
       "      <th>credit</th>\n",
       "    </tr>\n",
       "  </thead>\n",
       "  <tbody>\n",
       "    <tr>\n",
       "      <th>0</th>\n",
       "      <td>A11</td>\n",
       "      <td>6</td>\n",
       "      <td>A34</td>\n",
       "      <td>A43</td>\n",
       "      <td>1169</td>\n",
       "      <td>A65</td>\n",
       "      <td>A75</td>\n",
       "      <td>4</td>\n",
       "      <td>A93</td>\n",
       "      <td>A101</td>\n",
       "      <td>...</td>\n",
       "      <td>A121</td>\n",
       "      <td>67</td>\n",
       "      <td>A143</td>\n",
       "      <td>A152</td>\n",
       "      <td>2</td>\n",
       "      <td>A173</td>\n",
       "      <td>1</td>\n",
       "      <td>A192</td>\n",
       "      <td>A201</td>\n",
       "      <td>1</td>\n",
       "    </tr>\n",
       "    <tr>\n",
       "      <th>1</th>\n",
       "      <td>A12</td>\n",
       "      <td>48</td>\n",
       "      <td>A32</td>\n",
       "      <td>A43</td>\n",
       "      <td>5951</td>\n",
       "      <td>A61</td>\n",
       "      <td>A73</td>\n",
       "      <td>2</td>\n",
       "      <td>A92</td>\n",
       "      <td>A101</td>\n",
       "      <td>...</td>\n",
       "      <td>A121</td>\n",
       "      <td>22</td>\n",
       "      <td>A143</td>\n",
       "      <td>A152</td>\n",
       "      <td>1</td>\n",
       "      <td>A173</td>\n",
       "      <td>1</td>\n",
       "      <td>A191</td>\n",
       "      <td>A201</td>\n",
       "      <td>2</td>\n",
       "    </tr>\n",
       "    <tr>\n",
       "      <th>2</th>\n",
       "      <td>A14</td>\n",
       "      <td>12</td>\n",
       "      <td>A34</td>\n",
       "      <td>A46</td>\n",
       "      <td>2096</td>\n",
       "      <td>A61</td>\n",
       "      <td>A74</td>\n",
       "      <td>2</td>\n",
       "      <td>A93</td>\n",
       "      <td>A101</td>\n",
       "      <td>...</td>\n",
       "      <td>A121</td>\n",
       "      <td>49</td>\n",
       "      <td>A143</td>\n",
       "      <td>A152</td>\n",
       "      <td>1</td>\n",
       "      <td>A172</td>\n",
       "      <td>2</td>\n",
       "      <td>A191</td>\n",
       "      <td>A201</td>\n",
       "      <td>1</td>\n",
       "    </tr>\n",
       "    <tr>\n",
       "      <th>3</th>\n",
       "      <td>A11</td>\n",
       "      <td>42</td>\n",
       "      <td>A32</td>\n",
       "      <td>A42</td>\n",
       "      <td>7882</td>\n",
       "      <td>A61</td>\n",
       "      <td>A74</td>\n",
       "      <td>2</td>\n",
       "      <td>A93</td>\n",
       "      <td>A103</td>\n",
       "      <td>...</td>\n",
       "      <td>A122</td>\n",
       "      <td>45</td>\n",
       "      <td>A143</td>\n",
       "      <td>A153</td>\n",
       "      <td>1</td>\n",
       "      <td>A173</td>\n",
       "      <td>2</td>\n",
       "      <td>A191</td>\n",
       "      <td>A201</td>\n",
       "      <td>1</td>\n",
       "    </tr>\n",
       "    <tr>\n",
       "      <th>4</th>\n",
       "      <td>A11</td>\n",
       "      <td>24</td>\n",
       "      <td>A33</td>\n",
       "      <td>A40</td>\n",
       "      <td>4870</td>\n",
       "      <td>A61</td>\n",
       "      <td>A73</td>\n",
       "      <td>3</td>\n",
       "      <td>A93</td>\n",
       "      <td>A101</td>\n",
       "      <td>...</td>\n",
       "      <td>A124</td>\n",
       "      <td>53</td>\n",
       "      <td>A143</td>\n",
       "      <td>A153</td>\n",
       "      <td>2</td>\n",
       "      <td>A173</td>\n",
       "      <td>2</td>\n",
       "      <td>A191</td>\n",
       "      <td>A201</td>\n",
       "      <td>2</td>\n",
       "    </tr>\n",
       "  </tbody>\n",
       "</table>\n",
       "<p>5 rows × 21 columns</p>\n",
       "</div>"
      ],
      "text/plain": [
       "  status  month credit_history purpose  credit_amount savings employment  \\\n",
       "0    A11      6            A34     A43           1169     A65        A75   \n",
       "1    A12     48            A32     A43           5951     A61        A73   \n",
       "2    A14     12            A34     A46           2096     A61        A74   \n",
       "3    A11     42            A32     A42           7882     A61        A74   \n",
       "4    A11     24            A33     A40           4870     A61        A73   \n",
       "\n",
       "   investment_as_income_percentage personal_status other_debtors  ...  \\\n",
       "0                                4             A93          A101  ...   \n",
       "1                                2             A92          A101  ...   \n",
       "2                                2             A93          A101  ...   \n",
       "3                                2             A93          A103  ...   \n",
       "4                                3             A93          A101  ...   \n",
       "\n",
       "   property age  installment_plans housing number_of_credits  skill_level  \\\n",
       "0      A121  67               A143    A152                 2         A173   \n",
       "1      A121  22               A143    A152                 1         A173   \n",
       "2      A121  49               A143    A152                 1         A172   \n",
       "3      A122  45               A143    A153                 1         A173   \n",
       "4      A124  53               A143    A153                 2         A173   \n",
       "\n",
       "  people_liable_for  telephone foreign_worker credit  \n",
       "0                 1       A192           A201      1  \n",
       "1                 1       A191           A201      2  \n",
       "2                 2       A191           A201      1  \n",
       "3                 2       A191           A201      1  \n",
       "4                 2       A191           A201      2  \n",
       "\n",
       "[5 rows x 21 columns]"
      ]
     },
     "execution_count": 3,
     "metadata": {},
     "output_type": "execute_result"
    }
   ],
   "source": [
    "filepath = r'https://archive.ics.uci.edu/ml/machine-learning-databases/statlog/german/german.data'\n",
    "dataframe = load_dataset(filepath)\n",
    "dataframe.head()"
   ]
  },
  {
   "cell_type": "code",
   "execution_count": 4,
   "metadata": {},
   "outputs": [
    {
     "data": {
      "text/plain": [
       "1    700\n",
       "2    300\n",
       "Name: credit, dtype: int64"
      ]
     },
     "execution_count": 4,
     "metadata": {},
     "output_type": "execute_result"
    }
   ],
   "source": [
    "# values belong to each category of risk\n",
    "dataframe.credit.value_counts()"
   ]
  },
  {
   "cell_type": "markdown",
   "metadata": {},
   "source": [
    "## 1.1 Data Distribution"
   ]
  },
  {
   "cell_type": "code",
   "execution_count": 5,
   "metadata": {},
   "outputs": [
    {
     "data": {
      "image/png": "[encoded data removed]",
      "text/plain": [
       "<Figure size 576x432 with 1 Axes>"
      ]
     },
     "metadata": {
      "needs_background": "light"
     },
     "output_type": "display_data"
    }
   ],
   "source": [
    "# Plotting distribution for feature 1\n",
    "plt.figure(figsize=(8, 6))\n",
    "sns.histplot(dataframe.age, kde=True)\n",
    "plt.xlabel('age')\n",
    "plt.ylabel('Frequency')\n",
    "plt.title('Distribution of age')\n",
    "plt.show()"
   ]
  },
  {
   "cell_type": "code",
   "execution_count": 6,
   "metadata": {},
   "outputs": [
    {
     "data": {
      "image/png": "[encoded data removed]",
      "text/plain": [
       "<Figure size 576x432 with 1 Axes>"
      ]
     },
     "metadata": {
      "needs_background": "light"
     },
     "output_type": "display_data"
    }
   ],
   "source": [
    "# Plotting distribution for feature 2\n",
    "plt.figure(figsize=(8, 6))\n",
    "sns.histplot(dataframe.credit_amount, kde=True)\n",
    "plt.xlabel('credit_amount')\n",
    "plt.ylabel('Frequency')\n",
    "plt.title('Distribution of creditamount')\n",
    "plt.show()"
   ]
  },
  {
   "cell_type": "code",
   "execution_count": 7,
   "metadata": {},
   "outputs": [],
   "source": [
    "def preprocess_dataset(dataframe, label_name, protected_attribute_names=[\"sex\"],\n",
    "                       privileged_classes=[[\"male\"]], favorable_class=1, categorical_features=None,\n",
    "                       features_to_drop=None):\n",
    "    # Create a one-hot encoding of the categorical variables.\n",
    "    categorical_features = sorted(set(categorical_features) - set(features_to_drop),\n",
    "                                  key=dataframe.columns.get_loc)\n",
    "    dataframe = pd.get_dummies(\n",
    "        dataframe, columns=categorical_features, prefix_sep='=')\n",
    "\n",
    "    # Map protected attributes to privileged/unprivileged\n",
    "    for attr, vals in zip(protected_attribute_names, privileged_classes):\n",
    "        privileged_values = [1.]\n",
    "        unprivileged_values = [0.]\n",
    "        if callable(vals):\n",
    "            dataframe[attr] = dataframe[attr].apply(vals)\n",
    "        else:\n",
    "            priv = np.logical_or.reduce(\n",
    "                np.equal.outer(vals, dataframe[attr].to_numpy()))\n",
    "            dataframe.loc[priv, attr] = privileged_values[0]\n",
    "            dataframe.loc[~priv, attr] = unprivileged_values[0]\n",
    "\n",
    "    # map favourable class\n",
    "    if callable(favorable_class):\n",
    "        dataframe[label_name] = dataframe[label_name].apply(favorable_class)\n",
    "    else:\n",
    "        dataframe[label_name] = (dataframe[label_name]\n",
    "                                 == favorable_class).astype(int)\n",
    "\n",
    "    # Drop unrequested columns\n",
    "    dataframe = dataframe[sorted(set(dataframe.columns.tolist()) - set(features_to_drop),\n",
    "                                 key=dataframe.columns.get_loc)]\n",
    "\n",
    "    return dataframe\n"
   ]
  },
  {
   "cell_type": "code",
   "execution_count": 8,
   "metadata": {
    "colab": {
     "base_uri": "https://localhost:8080/",
     "height": 224
    },
    "id": "UaF6cEDrurIn",
    "outputId": "cb04ec71-3019-45ce-ff3e-7cd5e9fa870e"
   },
   "outputs": [
    {
     "data": {
      "text/html": [
       "<div>\n",
       "<style scoped>\n",
       "    .dataframe tbody tr th:only-of-type {\n",
       "        vertical-align: middle;\n",
       "    }\n",
       "\n",
       "    .dataframe tbody tr th {\n",
       "        vertical-align: top;\n",
       "    }\n",
       "\n",
       "    .dataframe thead th {\n",
       "        text-align: right;\n",
       "    }\n",
       "</style>\n",
       "<table border=\"1\" class=\"dataframe\">\n",
       "  <thead>\n",
       "    <tr style=\"text-align: right;\">\n",
       "      <th></th>\n",
       "      <th>month</th>\n",
       "      <th>credit_amount</th>\n",
       "      <th>investment_as_income_percentage</th>\n",
       "      <th>residence_since</th>\n",
       "      <th>age</th>\n",
       "      <th>number_of_credits</th>\n",
       "      <th>people_liable_for</th>\n",
       "      <th>credit</th>\n",
       "      <th>gender</th>\n",
       "      <th>status=A11</th>\n",
       "      <th>...</th>\n",
       "      <th>housing=A152</th>\n",
       "      <th>housing=A153</th>\n",
       "      <th>skill_level=A171</th>\n",
       "      <th>skill_level=A172</th>\n",
       "      <th>skill_level=A173</th>\n",
       "      <th>skill_level=A174</th>\n",
       "      <th>telephone=A191</th>\n",
       "      <th>telephone=A192</th>\n",
       "      <th>foreign_worker=A201</th>\n",
       "      <th>foreign_worker=A202</th>\n",
       "    </tr>\n",
       "  </thead>\n",
       "  <tbody>\n",
       "    <tr>\n",
       "      <th>0</th>\n",
       "      <td>6</td>\n",
       "      <td>1169</td>\n",
       "      <td>4</td>\n",
       "      <td>4</td>\n",
       "      <td>67</td>\n",
       "      <td>2</td>\n",
       "      <td>1</td>\n",
       "      <td>1</td>\n",
       "      <td>1.0</td>\n",
       "      <td>1</td>\n",
       "      <td>...</td>\n",
       "      <td>1</td>\n",
       "      <td>0</td>\n",
       "      <td>0</td>\n",
       "      <td>0</td>\n",
       "      <td>1</td>\n",
       "      <td>0</td>\n",
       "      <td>0</td>\n",
       "      <td>1</td>\n",
       "      <td>1</td>\n",
       "      <td>0</td>\n",
       "    </tr>\n",
       "    <tr>\n",
       "      <th>1</th>\n",
       "      <td>48</td>\n",
       "      <td>5951</td>\n",
       "      <td>2</td>\n",
       "      <td>2</td>\n",
       "      <td>22</td>\n",
       "      <td>1</td>\n",
       "      <td>1</td>\n",
       "      <td>0</td>\n",
       "      <td>0.0</td>\n",
       "      <td>0</td>\n",
       "      <td>...</td>\n",
       "      <td>1</td>\n",
       "      <td>0</td>\n",
       "      <td>0</td>\n",
       "      <td>0</td>\n",
       "      <td>1</td>\n",
       "      <td>0</td>\n",
       "      <td>1</td>\n",
       "      <td>0</td>\n",
       "      <td>1</td>\n",
       "      <td>0</td>\n",
       "    </tr>\n",
       "    <tr>\n",
       "      <th>2</th>\n",
       "      <td>12</td>\n",
       "      <td>2096</td>\n",
       "      <td>2</td>\n",
       "      <td>3</td>\n",
       "      <td>49</td>\n",
       "      <td>1</td>\n",
       "      <td>2</td>\n",
       "      <td>1</td>\n",
       "      <td>1.0</td>\n",
       "      <td>0</td>\n",
       "      <td>...</td>\n",
       "      <td>1</td>\n",
       "      <td>0</td>\n",
       "      <td>0</td>\n",
       "      <td>1</td>\n",
       "      <td>0</td>\n",
       "      <td>0</td>\n",
       "      <td>1</td>\n",
       "      <td>0</td>\n",
       "      <td>1</td>\n",
       "      <td>0</td>\n",
       "    </tr>\n",
       "    <tr>\n",
       "      <th>3</th>\n",
       "      <td>42</td>\n",
       "      <td>7882</td>\n",
       "      <td>2</td>\n",
       "      <td>4</td>\n",
       "      <td>45</td>\n",
       "      <td>1</td>\n",
       "      <td>2</td>\n",
       "      <td>1</td>\n",
       "      <td>1.0</td>\n",
       "      <td>1</td>\n",
       "      <td>...</td>\n",
       "      <td>0</td>\n",
       "      <td>1</td>\n",
       "      <td>0</td>\n",
       "      <td>0</td>\n",
       "      <td>1</td>\n",
       "      <td>0</td>\n",
       "      <td>1</td>\n",
       "      <td>0</td>\n",
       "      <td>1</td>\n",
       "      <td>0</td>\n",
       "    </tr>\n",
       "    <tr>\n",
       "      <th>4</th>\n",
       "      <td>24</td>\n",
       "      <td>4870</td>\n",
       "      <td>3</td>\n",
       "      <td>4</td>\n",
       "      <td>53</td>\n",
       "      <td>2</td>\n",
       "      <td>2</td>\n",
       "      <td>0</td>\n",
       "      <td>1.0</td>\n",
       "      <td>1</td>\n",
       "      <td>...</td>\n",
       "      <td>0</td>\n",
       "      <td>1</td>\n",
       "      <td>0</td>\n",
       "      <td>0</td>\n",
       "      <td>1</td>\n",
       "      <td>0</td>\n",
       "      <td>1</td>\n",
       "      <td>0</td>\n",
       "      <td>1</td>\n",
       "      <td>0</td>\n",
       "    </tr>\n",
       "  </tbody>\n",
       "</table>\n",
       "<p>5 rows × 59 columns</p>\n",
       "</div>"
      ],
      "text/plain": [
       "   month  credit_amount  investment_as_income_percentage  residence_since  \\\n",
       "0      6           1169                                4                4   \n",
       "1     48           5951                                2                2   \n",
       "2     12           2096                                2                3   \n",
       "3     42           7882                                2                4   \n",
       "4     24           4870                                3                4   \n",
       "\n",
       "   age  number_of_credits  people_liable_for  credit gender  status=A11  ...  \\\n",
       "0   67                  2                  1       1    1.0           1  ...   \n",
       "1   22                  1                  1       0    0.0           0  ...   \n",
       "2   49                  1                  2       1    1.0           0  ...   \n",
       "3   45                  1                  2       1    1.0           1  ...   \n",
       "4   53                  2                  2       0    1.0           1  ...   \n",
       "\n",
       "   housing=A152  housing=A153  skill_level=A171  skill_level=A172  \\\n",
       "0             1             0                 0                 0   \n",
       "1             1             0                 0                 0   \n",
       "2             1             0                 0                 1   \n",
       "3             0             1                 0                 0   \n",
       "4             0             1                 0                 0   \n",
       "\n",
       "   skill_level=A173  skill_level=A174  telephone=A191  telephone=A192  \\\n",
       "0                 1                 0               0               1   \n",
       "1                 1                 0               1               0   \n",
       "2                 0                 0               1               0   \n",
       "3                 1                 0               1               0   \n",
       "4                 1                 0               1               0   \n",
       "\n",
       "   foreign_worker=A201  foreign_worker=A202  \n",
       "0                    1                    0  \n",
       "1                    1                    0  \n",
       "2                    1                    0  \n",
       "3                    1                    0  \n",
       "4                    1                    0  \n",
       "\n",
       "[5 rows x 59 columns]"
      ]
     },
     "execution_count": 8,
     "metadata": {},
     "output_type": "execute_result"
    }
   ],
   "source": [
    "# To keep it simple, in this tutorial, we shall try to determine whether there is gender bias in the dataset\n",
    "# and mitigate that.\n",
    "protected_attribute_names = ['gender']\n",
    "privileged_classes = [['male']]\n",
    "\n",
    "# derive the gender attribute from personal_status (you can refer the german.doc)\n",
    "status_map = {'A91': 'male', 'A93': 'male', 'A94': 'male',\n",
    "              'A92': 'female', 'A95': 'female'}\n",
    "dataframe['gender'] = dataframe['personal_status'].replace(status_map)\n",
    "\n",
    "# target variable\n",
    "label_name = 'credit'\n",
    "\n",
    "favorable_label = 1.0  # good credit\n",
    "unfavorable_label = 0.0  # bad credit\n",
    "categorical_features = ['status', 'credit_history', 'purpose',\n",
    "                        'savings', 'employment', 'other_debtors', 'property',\n",
    "                        'installment_plans', 'housing', 'skill_level', 'telephone',\n",
    "                        'foreign_worker']\n",
    "features_to_drop = ['personal_status']\n",
    "\n",
    "# dataset specific preprocessing\n",
    "dataframe = preprocess_dataset(dataframe, label_name, protected_attribute_names,\n",
    "                               privileged_classes, favorable_class=favorable_label,\n",
    "                               categorical_features=categorical_features,\n",
    "                               features_to_drop=features_to_drop)\n",
    "dataframe.head()"
   ]
  },
  {
   "cell_type": "markdown",
   "metadata": {},
   "source": [
    "## 1.2 Multicollinearity Analysis"
   ]
  },
  {
   "cell_type": "markdown",
   "metadata": {
    "id": "VESs7Z_turIo"
   },
   "source": [
    "Higher VIF values indicate a stronger degree of multicollinearity among the variables. Generally, VIF values above 5 or 10 are considered to indicate high multicollinearity."
   ]
  },
  {
   "cell_type": "code",
   "execution_count": 9,
   "metadata": {},
   "outputs": [
    {
     "name": "stdout",
     "output_type": "stream",
     "text": [
      "        Variable       VIF\n",
      "0            age  3.065675\n",
      "1  credit_amount  3.861919\n",
      "2          month  5.534221\n"
     ]
    }
   ],
   "source": [
    "# multicollinearity\n",
    "from statsmodels.stats.outliers_influence import variance_inflation_factor\n",
    "predictor_variables = ['age', 'credit_amount', 'month']\n",
    "X = dataframe[predictor_variables]\n",
    "\n",
    "# Calculate VIF for each predictor variable\n",
    "vif_data = pd.DataFrame()\n",
    "vif_data['Variable'] = predictor_variables\n",
    "vif_data['VIF'] = [variance_inflation_factor(X.values, i) for i in range(X.shape[1])]\n",
    "print(vif_data)"
   ]
  },
  {
   "cell_type": "code",
   "execution_count": 10,
   "metadata": {
    "id": "ry3rfLN8urIo"
   },
   "outputs": [],
   "source": [
    "train = dataframe.sample(frac=0.7, random_state=0)\n",
    "test = dataframe.drop(train.index)"
   ]
  },
  {
   "cell_type": "markdown",
   "metadata": {
    "id": "TOd9MazaurIo"
   },
   "source": [
    "## 2. Data Fairness Assessment\n",
    "#### Statistical Parity Difference\n",
    "\n",
    "`Statistical Parity` is checked by computing `Statistical Parity Difference (SPD)`. SPD is the difference between the rate of favorable outcomes received by unprivileged group compared to privileged group. Negative value indicates less favorable outcomes for unprivileged groups."
   ]
  },
  {
   "cell_type": "markdown",
   "metadata": {},
   "source": [
    "## 2.1 Gender and Age Balance"
   ]
  },
  {
   "cell_type": "code",
   "execution_count": 11,
   "metadata": {},
   "outputs": [
    {
     "data": {
      "text/html": [
       "<div>\n",
       "<style scoped>\n",
       "    .dataframe tbody tr th:only-of-type {\n",
       "        vertical-align: middle;\n",
       "    }\n",
       "\n",
       "    .dataframe tbody tr th {\n",
       "        vertical-align: top;\n",
       "    }\n",
       "\n",
       "    .dataframe thead th {\n",
       "        text-align: right;\n",
       "    }\n",
       "</style>\n",
       "<table border=\"1\" class=\"dataframe\">\n",
       "  <thead>\n",
       "    <tr style=\"text-align: right;\">\n",
       "      <th></th>\n",
       "      <th>status</th>\n",
       "      <th>month</th>\n",
       "      <th>credit_history</th>\n",
       "      <th>purpose</th>\n",
       "      <th>credit_amount</th>\n",
       "      <th>savings</th>\n",
       "      <th>employment</th>\n",
       "      <th>investment_as_income_percentage</th>\n",
       "      <th>personal_status</th>\n",
       "      <th>other_debtors</th>\n",
       "      <th>...</th>\n",
       "      <th>property</th>\n",
       "      <th>age</th>\n",
       "      <th>installment_plans</th>\n",
       "      <th>housing</th>\n",
       "      <th>number_of_credits</th>\n",
       "      <th>skill_level</th>\n",
       "      <th>people_liable_for</th>\n",
       "      <th>telephone</th>\n",
       "      <th>foreign_worker</th>\n",
       "      <th>credit</th>\n",
       "    </tr>\n",
       "  </thead>\n",
       "  <tbody>\n",
       "    <tr>\n",
       "      <th>0</th>\n",
       "      <td>A11</td>\n",
       "      <td>6</td>\n",
       "      <td>A34</td>\n",
       "      <td>A43</td>\n",
       "      <td>1169</td>\n",
       "      <td>A65</td>\n",
       "      <td>A75</td>\n",
       "      <td>4</td>\n",
       "      <td>A93</td>\n",
       "      <td>A101</td>\n",
       "      <td>...</td>\n",
       "      <td>A121</td>\n",
       "      <td>67</td>\n",
       "      <td>A143</td>\n",
       "      <td>A152</td>\n",
       "      <td>2</td>\n",
       "      <td>A173</td>\n",
       "      <td>1</td>\n",
       "      <td>A192</td>\n",
       "      <td>A201</td>\n",
       "      <td>1</td>\n",
       "    </tr>\n",
       "    <tr>\n",
       "      <th>1</th>\n",
       "      <td>A12</td>\n",
       "      <td>48</td>\n",
       "      <td>A32</td>\n",
       "      <td>A43</td>\n",
       "      <td>5951</td>\n",
       "      <td>A61</td>\n",
       "      <td>A73</td>\n",
       "      <td>2</td>\n",
       "      <td>A92</td>\n",
       "      <td>A101</td>\n",
       "      <td>...</td>\n",
       "      <td>A121</td>\n",
       "      <td>22</td>\n",
       "      <td>A143</td>\n",
       "      <td>A152</td>\n",
       "      <td>1</td>\n",
       "      <td>A173</td>\n",
       "      <td>1</td>\n",
       "      <td>A191</td>\n",
       "      <td>A201</td>\n",
       "      <td>2</td>\n",
       "    </tr>\n",
       "    <tr>\n",
       "      <th>2</th>\n",
       "      <td>A14</td>\n",
       "      <td>12</td>\n",
       "      <td>A34</td>\n",
       "      <td>A46</td>\n",
       "      <td>2096</td>\n",
       "      <td>A61</td>\n",
       "      <td>A74</td>\n",
       "      <td>2</td>\n",
       "      <td>A93</td>\n",
       "      <td>A101</td>\n",
       "      <td>...</td>\n",
       "      <td>A121</td>\n",
       "      <td>49</td>\n",
       "      <td>A143</td>\n",
       "      <td>A152</td>\n",
       "      <td>1</td>\n",
       "      <td>A172</td>\n",
       "      <td>2</td>\n",
       "      <td>A191</td>\n",
       "      <td>A201</td>\n",
       "      <td>1</td>\n",
       "    </tr>\n",
       "    <tr>\n",
       "      <th>3</th>\n",
       "      <td>A11</td>\n",
       "      <td>42</td>\n",
       "      <td>A32</td>\n",
       "      <td>A42</td>\n",
       "      <td>7882</td>\n",
       "      <td>A61</td>\n",
       "      <td>A74</td>\n",
       "      <td>2</td>\n",
       "      <td>A93</td>\n",
       "      <td>A103</td>\n",
       "      <td>...</td>\n",
       "      <td>A122</td>\n",
       "      <td>45</td>\n",
       "      <td>A143</td>\n",
       "      <td>A153</td>\n",
       "      <td>1</td>\n",
       "      <td>A173</td>\n",
       "      <td>2</td>\n",
       "      <td>A191</td>\n",
       "      <td>A201</td>\n",
       "      <td>1</td>\n",
       "    </tr>\n",
       "    <tr>\n",
       "      <th>4</th>\n",
       "      <td>A11</td>\n",
       "      <td>24</td>\n",
       "      <td>A33</td>\n",
       "      <td>A40</td>\n",
       "      <td>4870</td>\n",
       "      <td>A61</td>\n",
       "      <td>A73</td>\n",
       "      <td>3</td>\n",
       "      <td>A93</td>\n",
       "      <td>A101</td>\n",
       "      <td>...</td>\n",
       "      <td>A124</td>\n",
       "      <td>53</td>\n",
       "      <td>A143</td>\n",
       "      <td>A153</td>\n",
       "      <td>2</td>\n",
       "      <td>A173</td>\n",
       "      <td>2</td>\n",
       "      <td>A191</td>\n",
       "      <td>A201</td>\n",
       "      <td>2</td>\n",
       "    </tr>\n",
       "  </tbody>\n",
       "</table>\n",
       "<p>5 rows × 21 columns</p>\n",
       "</div>"
      ],
      "text/plain": [
       "  status  month credit_history purpose  credit_amount savings employment  \\\n",
       "0    A11      6            A34     A43           1169     A65        A75   \n",
       "1    A12     48            A32     A43           5951     A61        A73   \n",
       "2    A14     12            A34     A46           2096     A61        A74   \n",
       "3    A11     42            A32     A42           7882     A61        A74   \n",
       "4    A11     24            A33     A40           4870     A61        A73   \n",
       "\n",
       "   investment_as_income_percentage personal_status other_debtors  ...  \\\n",
       "0                                4             A93          A101  ...   \n",
       "1                                2             A92          A101  ...   \n",
       "2                                2             A93          A101  ...   \n",
       "3                                2             A93          A103  ...   \n",
       "4                                3             A93          A101  ...   \n",
       "\n",
       "   property age  installment_plans housing number_of_credits  skill_level  \\\n",
       "0      A121  67               A143    A152                 2         A173   \n",
       "1      A121  22               A143    A152                 1         A173   \n",
       "2      A121  49               A143    A152                 1         A172   \n",
       "3      A122  45               A143    A153                 1         A173   \n",
       "4      A124  53               A143    A153                 2         A173   \n",
       "\n",
       "  people_liable_for  telephone foreign_worker credit  \n",
       "0                 1       A192           A201      1  \n",
       "1                 1       A191           A201      2  \n",
       "2                 2       A191           A201      1  \n",
       "3                 2       A191           A201      1  \n",
       "4                 2       A191           A201      2  \n",
       "\n",
       "[5 rows x 21 columns]"
      ]
     },
     "execution_count": 11,
     "metadata": {},
     "output_type": "execute_result"
    }
   ],
   "source": [
    "filepath = r'https://archive.ics.uci.edu/ml/machine-learning-databases/statlog/german/german.data'\n",
    "dataframe = load_dataset(filepath)\n",
    "dataframe.head()"
   ]
  },
  {
   "cell_type": "code",
   "execution_count": 12,
   "metadata": {},
   "outputs": [
    {
     "data": {
      "image/png": "[encoded data removed]",
      "text/plain": [
       "<Figure size 1080x360 with 2 Axes>"
      ]
     },
     "metadata": {
      "needs_background": "light"
     },
     "output_type": "display_data"
    },
    {
     "data": {
      "image/png": "[encoded data removed]",
      "text/plain": [
       "<Figure size 1080x360 with 2 Axes>"
      ]
     },
     "metadata": {
      "needs_background": "light"
     },
     "output_type": "display_data"
    }
   ],
   "source": [
    "dataframe['personal_status'].replace({'A91':'male','A92':'female','A93':'male','A94':'male','A95':'female'}, inplace = True)\n",
    "dataframe['credit'].replace({1 :'good', 2:'bad'}, inplace = True)\n",
    "\n",
    "\n",
    "fig, ax = plt.subplots(1,2,figsize=(15,5))\n",
    "sns.histplot(dataframe, x='age', bins=30, hue=\"personal_status\", ax=ax[0]).set_title(\"Age/Sex Distribution\");\n",
    "sns.boxplot(data=dataframe, x=\"personal_status\", y=\"age\", ax=ax[1]).set_title(\"Age/Sex Distribution\");\n",
    "\n",
    "fig, ax = plt.subplots(1,2,figsize=(15,5))\n",
    "sns.boxplot(data=dataframe, x='credit', y='age', ax=ax[0]).set_title(\"Age Distribution with Risk\");\n",
    "sns.countplot(data=dataframe, x=\"personal_status\", hue=\"credit\", ax=ax[1]).set_title(\"Sex Distribution with Risk\");"
   ]
  },
  {
   "cell_type": "code",
   "execution_count": 13,
   "metadata": {},
   "outputs": [
    {
     "data": {
      "image/png": "[encoded data removed]",
      "text/plain": [
       "<Figure size 1080x360 with 2 Axes>"
      ]
     },
     "metadata": {
      "needs_background": "light"
     },
     "output_type": "display_data"
    },
    {
     "data": {
      "image/png": "[encoded data removed]",
      "text/plain": [
       "<Figure size 1080x360 with 2 Axes>"
      ]
     },
     "metadata": {
      "needs_background": "light"
     },
     "output_type": "display_data"
    }
   ],
   "source": [
    "dataframe['savings'].replace( {'A61': 'low', 'A62': 'moderate', 'A63':'moderate','A64':'rich', 'A65':'low'}, inplace = True)\n",
    "\n",
    "dataframe['credit'].replace({1 :'good', 2:'bad'}, inplace = True)\n",
    "\n",
    "\n",
    "fig, ax = plt.subplots(1,2,figsize=(15,5))\n",
    "sns.histplot(dataframe, x='credit_amount', bins=30, hue=\"savings\", ax=ax[0]).set_title(\"credit_amount/savings Distribution\");\n",
    "sns.boxplot(data=dataframe, x=\"savings\", y=\"credit_amount\", ax=ax[1]).set_title(\"credit_amount/savings Distribution\");\n",
    "\n",
    "fig, ax = plt.subplots(1,2,figsize=(15,5))\n",
    "sns.boxplot(data=dataframe, x='credit', y='credit_amount', ax=ax[0]).set_title(\"credit_amount Distribution with Risk\");\n",
    "sns.countplot(data=dataframe, x=\"savings\", hue=\"credit\", ax=ax[1]).set_title(\"savings Distribution with Risk\");"
   ]
  },
  {
   "cell_type": "code",
   "execution_count": 14,
   "metadata": {},
   "outputs": [
    {
     "name": "stdout",
     "output_type": "stream",
     "text": [
      "male      690\n",
      "female    310\n",
      "Name: personal_status, dtype: int64\n"
     ]
    }
   ],
   "source": [
    "# Count the number of instances for each gender\n",
    "gender_counts = dataframe['personal_status'].value_counts()\n",
    "print(gender_counts)\n"
   ]
  },
  {
   "cell_type": "markdown",
   "metadata": {},
   "source": [
    "#### This split the dataset into train and test sets in a way that preserves the same proportions of examples in each class as observed in the original dataset."
   ]
  },
  {
   "cell_type": "code",
   "execution_count": 15,
   "metadata": {},
   "outputs": [],
   "source": [
    "# Perform stratified sampling during train-test split\n",
    "from sklearn.model_selection import train_test_split\n",
    "\n",
    "X = dataframe.drop('personal_status', axis=1)\n",
    "y = dataframe['personal_status']\n",
    "\n",
    "# Split the data while maintaining the gender distribution\n",
    "X_train, X_test, y_train, y_test = train_test_split(X, y, test_size=0.2, stratify=y, random_state=42)"
   ]
  },
  {
   "cell_type": "code",
   "execution_count": 16,
   "metadata": {},
   "outputs": [
    {
     "data": {
      "text/html": [
       "<div>\n",
       "<style scoped>\n",
       "    .dataframe tbody tr th:only-of-type {\n",
       "        vertical-align: middle;\n",
       "    }\n",
       "\n",
       "    .dataframe tbody tr th {\n",
       "        vertical-align: top;\n",
       "    }\n",
       "\n",
       "    .dataframe thead th {\n",
       "        text-align: right;\n",
       "    }\n",
       "</style>\n",
       "<table border=\"1\" class=\"dataframe\">\n",
       "  <thead>\n",
       "    <tr style=\"text-align: right;\">\n",
       "      <th></th>\n",
       "      <th>status</th>\n",
       "      <th>month</th>\n",
       "      <th>credit_history</th>\n",
       "      <th>purpose</th>\n",
       "      <th>credit_amount</th>\n",
       "      <th>savings</th>\n",
       "      <th>employment</th>\n",
       "      <th>investment_as_income_percentage</th>\n",
       "      <th>personal_status</th>\n",
       "      <th>other_debtors</th>\n",
       "      <th>...</th>\n",
       "      <th>property</th>\n",
       "      <th>age</th>\n",
       "      <th>installment_plans</th>\n",
       "      <th>housing</th>\n",
       "      <th>number_of_credits</th>\n",
       "      <th>skill_level</th>\n",
       "      <th>people_liable_for</th>\n",
       "      <th>telephone</th>\n",
       "      <th>foreign_worker</th>\n",
       "      <th>credit</th>\n",
       "    </tr>\n",
       "  </thead>\n",
       "  <tbody>\n",
       "    <tr>\n",
       "      <th>0</th>\n",
       "      <td>A11</td>\n",
       "      <td>6</td>\n",
       "      <td>A34</td>\n",
       "      <td>A43</td>\n",
       "      <td>1169</td>\n",
       "      <td>A65</td>\n",
       "      <td>A75</td>\n",
       "      <td>4</td>\n",
       "      <td>A93</td>\n",
       "      <td>A101</td>\n",
       "      <td>...</td>\n",
       "      <td>A121</td>\n",
       "      <td>67</td>\n",
       "      <td>A143</td>\n",
       "      <td>A152</td>\n",
       "      <td>2</td>\n",
       "      <td>A173</td>\n",
       "      <td>1</td>\n",
       "      <td>A192</td>\n",
       "      <td>A201</td>\n",
       "      <td>1</td>\n",
       "    </tr>\n",
       "    <tr>\n",
       "      <th>1</th>\n",
       "      <td>A12</td>\n",
       "      <td>48</td>\n",
       "      <td>A32</td>\n",
       "      <td>A43</td>\n",
       "      <td>5951</td>\n",
       "      <td>A61</td>\n",
       "      <td>A73</td>\n",
       "      <td>2</td>\n",
       "      <td>A92</td>\n",
       "      <td>A101</td>\n",
       "      <td>...</td>\n",
       "      <td>A121</td>\n",
       "      <td>22</td>\n",
       "      <td>A143</td>\n",
       "      <td>A152</td>\n",
       "      <td>1</td>\n",
       "      <td>A173</td>\n",
       "      <td>1</td>\n",
       "      <td>A191</td>\n",
       "      <td>A201</td>\n",
       "      <td>2</td>\n",
       "    </tr>\n",
       "    <tr>\n",
       "      <th>2</th>\n",
       "      <td>A14</td>\n",
       "      <td>12</td>\n",
       "      <td>A34</td>\n",
       "      <td>A46</td>\n",
       "      <td>2096</td>\n",
       "      <td>A61</td>\n",
       "      <td>A74</td>\n",
       "      <td>2</td>\n",
       "      <td>A93</td>\n",
       "      <td>A101</td>\n",
       "      <td>...</td>\n",
       "      <td>A121</td>\n",
       "      <td>49</td>\n",
       "      <td>A143</td>\n",
       "      <td>A152</td>\n",
       "      <td>1</td>\n",
       "      <td>A172</td>\n",
       "      <td>2</td>\n",
       "      <td>A191</td>\n",
       "      <td>A201</td>\n",
       "      <td>1</td>\n",
       "    </tr>\n",
       "    <tr>\n",
       "      <th>3</th>\n",
       "      <td>A11</td>\n",
       "      <td>42</td>\n",
       "      <td>A32</td>\n",
       "      <td>A42</td>\n",
       "      <td>7882</td>\n",
       "      <td>A61</td>\n",
       "      <td>A74</td>\n",
       "      <td>2</td>\n",
       "      <td>A93</td>\n",
       "      <td>A103</td>\n",
       "      <td>...</td>\n",
       "      <td>A122</td>\n",
       "      <td>45</td>\n",
       "      <td>A143</td>\n",
       "      <td>A153</td>\n",
       "      <td>1</td>\n",
       "      <td>A173</td>\n",
       "      <td>2</td>\n",
       "      <td>A191</td>\n",
       "      <td>A201</td>\n",
       "      <td>1</td>\n",
       "    </tr>\n",
       "    <tr>\n",
       "      <th>4</th>\n",
       "      <td>A11</td>\n",
       "      <td>24</td>\n",
       "      <td>A33</td>\n",
       "      <td>A40</td>\n",
       "      <td>4870</td>\n",
       "      <td>A61</td>\n",
       "      <td>A73</td>\n",
       "      <td>3</td>\n",
       "      <td>A93</td>\n",
       "      <td>A101</td>\n",
       "      <td>...</td>\n",
       "      <td>A124</td>\n",
       "      <td>53</td>\n",
       "      <td>A143</td>\n",
       "      <td>A153</td>\n",
       "      <td>2</td>\n",
       "      <td>A173</td>\n",
       "      <td>2</td>\n",
       "      <td>A191</td>\n",
       "      <td>A201</td>\n",
       "      <td>2</td>\n",
       "    </tr>\n",
       "  </tbody>\n",
       "</table>\n",
       "<p>5 rows × 21 columns</p>\n",
       "</div>"
      ],
      "text/plain": [
       "  status  month credit_history purpose  credit_amount savings employment  \\\n",
       "0    A11      6            A34     A43           1169     A65        A75   \n",
       "1    A12     48            A32     A43           5951     A61        A73   \n",
       "2    A14     12            A34     A46           2096     A61        A74   \n",
       "3    A11     42            A32     A42           7882     A61        A74   \n",
       "4    A11     24            A33     A40           4870     A61        A73   \n",
       "\n",
       "   investment_as_income_percentage personal_status other_debtors  ...  \\\n",
       "0                                4             A93          A101  ...   \n",
       "1                                2             A92          A101  ...   \n",
       "2                                2             A93          A101  ...   \n",
       "3                                2             A93          A103  ...   \n",
       "4                                3             A93          A101  ...   \n",
       "\n",
       "   property age  installment_plans housing number_of_credits  skill_level  \\\n",
       "0      A121  67               A143    A152                 2         A173   \n",
       "1      A121  22               A143    A152                 1         A173   \n",
       "2      A121  49               A143    A152                 1         A172   \n",
       "3      A122  45               A143    A153                 1         A173   \n",
       "4      A124  53               A143    A153                 2         A173   \n",
       "\n",
       "  people_liable_for  telephone foreign_worker credit  \n",
       "0                 1       A192           A201      1  \n",
       "1                 1       A191           A201      2  \n",
       "2                 2       A191           A201      1  \n",
       "3                 2       A191           A201      1  \n",
       "4                 2       A191           A201      2  \n",
       "\n",
       "[5 rows x 21 columns]"
      ]
     },
     "execution_count": 16,
     "metadata": {},
     "output_type": "execute_result"
    }
   ],
   "source": [
    "filepath = r'https://archive.ics.uci.edu/ml/machine-learning-databases/statlog/german/german.data'\n",
    "dataframe = load_dataset(filepath)\n",
    "dataframe.head()"
   ]
  },
  {
   "cell_type": "code",
   "execution_count": 17,
   "metadata": {
    "id": "qQ1cpUHDurIo"
   },
   "outputs": [],
   "source": [
    "# return `True` if the corresponding row satisfies the `condition` and `False` otherwise\n",
    "def get_condition_vector(X, feature_names, condition=None):\n",
    "    if condition is None:\n",
    "        return np.ones(X.shape[0], dtype=bool)\n",
    "\n",
    "    overall_cond = np.zeros(X.shape[0], dtype=bool)\n",
    "    for group in condition:\n",
    "        group_cond = np.ones(X.shape[0], dtype=bool)\n",
    "        for name, val in group.items():\n",
    "            index = feature_names.index(name)\n",
    "            group_cond = np.logical_and(group_cond, X[:, index] == val)\n",
    "        overall_cond = np.logical_or(overall_cond, group_cond)\n",
    "\n",
    "    return overall_cond"
   ]
  },
  {
   "cell_type": "markdown",
   "metadata": {
    "id": "7RrQjSqfurIo"
   },
   "source": [
    "##### Compute the number of positives"
   ]
  },
  {
   "cell_type": "code",
   "execution_count": 18,
   "metadata": {
    "id": "XU72Cl__urIp"
   },
   "outputs": [],
   "source": [
    "def get_num_pos_neg(X, y, w, feature_names, label, condition=None):\n",
    "    y = y.ravel()\n",
    "    cond_vec = get_condition_vector(X, feature_names, condition=condition)\n",
    "    return np.sum(w[np.logical_and(y == label, cond_vec)], dtype=np.float64)"
   ]
  },
  {
   "cell_type": "markdown",
   "metadata": {
    "id": "0pZ7jxZJurIp"
   },
   "source": [
    "##### Compute the number of instances"
   ]
  },
  {
   "cell_type": "code",
   "execution_count": 19,
   "metadata": {
    "id": "hvgR4TuWurIp"
   },
   "outputs": [],
   "source": [
    "def get_num_instances(X, w, feature_names, condition=None):\n",
    "    cond_vec = get_condition_vector(X, feature_names, condition)\n",
    "    return np.sum(w[cond_vec], dtype=np.float64)"
   ]
  },
  {
   "cell_type": "markdown",
   "metadata": {
    "id": "cEeeWa8eurIp"
   },
   "source": [
    "##### Compute the rate of favourable result for a given condition"
   ]
  },
  {
   "cell_type": "code",
   "execution_count": 20,
   "metadata": {
    "id": "t6IO5XB9urIp"
   },
   "outputs": [],
   "source": [
    "# Compute the base rate, :`Pr(Y = 1) = P/(P+N)\n",
    "# Compute the persentage of favourable result for a given condition\n",
    "def get_base_rate(X, y, w, feature_names, label, condition=None):\n",
    "    return (get_num_pos_neg(X, y, w, feature_names, label, condition=condition)\n",
    "            / get_num_instances(X, w, feature_names, condition=condition))"
   ]
  },
  {
   "cell_type": "markdown",
   "metadata": {
    "id": "fxnHTpMkurIp"
   },
   "source": [
    "##### Compute fairness in training data"
   ]
  },
  {
   "cell_type": "code",
   "execution_count": 21,
   "metadata": {
    "id": "QH61NVl8urIq"
   },
   "outputs": [],
   "source": [
    "# target value\n",
    "labels_train = train[label_name].values.copy()\n",
    "\n",
    "# protected attributes\n",
    "df_prot = train.loc[:, protected_attribute_names]\n",
    "protected_attributes = df_prot.values.copy()\n",
    "privileged_groups = [{'gender': 1}]\n",
    "unprivileged_groups = [{'gender': 0}]\n",
    "\n",
    "# equal weights for all classes by default in the train dataset\n",
    "instance_weights = np.ones_like(train.index, dtype=np.float64)"
   ]
  },
  {
   "cell_type": "markdown",
   "metadata": {
    "id": "w_D-yLKxurIq"
   },
   "source": [
    "now let's compute the fairness of data with respect to protected attribute"
   ]
  },
  {
   "cell_type": "code",
   "execution_count": 22,
   "metadata": {
    "id": "S3TNraEYurIq"
   },
   "outputs": [],
   "source": [
    "positive_privileged = get_base_rate(protected_attributes, labels_train, instance_weights,\n",
    "                                    protected_attribute_names,\n",
    "                                    favorable_label, privileged_groups)\n",
    "\n",
    "positive_unprivileged = get_base_rate(protected_attributes, labels_train, instance_weights,\n",
    "                                      protected_attribute_names,\n",
    "                                      favorable_label, unprivileged_groups)"
   ]
  },
  {
   "cell_type": "markdown",
   "metadata": {
    "id": "wjEu7nd3urIq"
   },
   "source": [
    "Let's look at favorable results for privileged & unprivileged groups in terms of statistical parity difference."
   ]
  },
  {
   "cell_type": "code",
   "execution_count": 23,
   "metadata": {
    "colab": {
     "base_uri": "https://localhost:8080/",
     "height": 281
    },
    "id": "Tqoa4WEPurIq",
    "outputId": "185144ac-61c1-484c-9d4c-ad5c6ca260bb"
   },
   "outputs": [
    {
     "data": {
      "image/png": "[encoded data removed]",
      "text/plain": [
       "<Figure size 432x288 with 1 Axes>"
      ]
     },
     "metadata": {
      "needs_background": "light"
     },
     "output_type": "display_data"
    }
   ],
   "source": [
    "x = [\"positive_privileged\", \"positive_unprivileged\"]\n",
    "y = [positive_privileged, positive_unprivileged]\n",
    "plt.barh(x, y, color=['green', 'blue'])\n",
    "\n",
    "for index, value in enumerate(y):\n",
    "    plt.text(value, index, str(round(value, 2)), fontweight='bold')\n",
    "plt.text(0.2, 0.5, \"Statistical parity difference : \" + str(\n",
    "    round((positive_unprivileged - positive_privileged), 3)),\n",
    "         bbox=dict(facecolor='white', alpha=0.4), fontweight='bold')\n",
    "plt.title(\"Statistical parity difference\", fontweight='bold')\n",
    "plt.show()"
   ]
  },
  {
   "cell_type": "markdown",
   "metadata": {
    "id": "omXiIruHurIr"
   },
   "source": [
    "Privileged group gets 10.8% more positive outcomes in the training dataset. This is `Bias`. Such Bias must be mitigated."
   ]
  },
  {
   "cell_type": "code",
   "execution_count": 24,
   "metadata": {
    "id": "A7lIfyREurIr"
   },
   "outputs": [],
   "source": [
    "def statistical_parity_difference(X, y, w, feature_names, label, privileged_groups, unprivileged_groups):\n",
    "    positive_privileged = get_base_rate(X, y, w, feature_names, label, privileged_groups)\n",
    "    positive_unprivileged = get_base_rate(X, y, w, feature_names, label, unprivileged_groups)\n",
    "    return (positive_unprivileged - positive_privileged)"
   ]
  },
  {
   "cell_type": "markdown",
   "metadata": {
    "id": "Xt7jiduyurIr"
   },
   "source": [
    "Let's store the fairnes of data in a variable"
   ]
  },
  {
   "cell_type": "code",
   "execution_count": 25,
   "metadata": {
    "id": "knREAK1RurIr"
   },
   "outputs": [],
   "source": [
    "original_spd = statistical_parity_difference(protected_attributes,\n",
    "                                         labels_train, instance_weights,\n",
    "                                         protected_attribute_names, favorable_label,\n",
    "                                         privileged_groups, unprivileged_groups)"
   ]
  },
  {
   "cell_type": "code",
   "execution_count": 26,
   "metadata": {
    "id": "XMECmn8burIr"
   },
   "outputs": [],
   "source": [
    "# get the only privileged condition vector for the given protected attributes\n",
    "# Values are `True` for the privileged values else 'False'\n",
    "privileged_cond = get_condition_vector(\n",
    "    protected_attributes,\n",
    "    protected_attribute_names,\n",
    "    condition=privileged_groups)\n",
    "\n",
    "# Get the only unprivileged condition vector for the given protected attributes\n",
    "# Values are `True` for the unprivileged values else 'False)\n",
    "unprivileged_cond = get_condition_vector(\n",
    "    protected_attributes,\n",
    "    protected_attribute_names,\n",
    "    condition=unprivileged_groups)"
   ]
  },
  {
   "cell_type": "code",
   "execution_count": 27,
   "metadata": {
    "id": "7CpaUBDkurIr"
   },
   "outputs": [],
   "source": [
    "# get the favorable(postive outcome) condition vector\n",
    "# Values are `True` for the favorable values else 'False'\n",
    "favorable_cond = labels_train.ravel() == favorable_label\n",
    "\n",
    "# get the unfavorable condition vector\n",
    "# Values are `True` for the unfavorable values else 'False'\n",
    "unfavorable_cond = labels_train.ravel() == unfavorable_label"
   ]
  },
  {
   "cell_type": "code",
   "execution_count": 28,
   "metadata": {
    "id": "fyzGzgKhurIs"
   },
   "outputs": [],
   "source": [
    "# combination of label and privileged/unprivileged groups\n",
    "\n",
    "# Postive outcome for privileged group\n",
    "privileged_favorable_cond = np.logical_and(favorable_cond, privileged_cond)\n",
    "\n",
    "# Negative outcome for privileged group\n",
    "privileged_unfavorable_cond = np.logical_and(unfavorable_cond, privileged_cond)\n",
    "\n",
    "# Postive outcome for unprivileged group\n",
    "unprivileged_favorable_cond = np.logical_and(favorable_cond, unprivileged_cond)\n",
    "\n",
    "# Negative outcome for unprivileged group\n",
    "unprivileged_unfavorable_cond = np.logical_and(unfavorable_cond, unprivileged_cond)"
   ]
  },
  {
   "cell_type": "markdown",
   "metadata": {
    "id": "3Dta7xHwurIs"
   },
   "source": [
    "We need total number of instances, privileged, unprivileged, favorable outcomes, etc.."
   ]
  },
  {
   "cell_type": "code",
   "execution_count": 29,
   "metadata": {
    "id": "mmeH2MFsurIs"
   },
   "outputs": [],
   "source": [
    "instance_count = train.shape[0]\n",
    "privileged_count = np.sum(privileged_cond, dtype=np.float64)\n",
    "unprivileged_count = np.sum(unprivileged_cond, dtype=np.float64)\n",
    "favourable_count = np.sum(favorable_cond, dtype=np.float64)\n",
    "unfavourable_count = np.sum(unfavorable_cond, dtype=np.float64)\n",
    "\n",
    "privileged_favourable_count = np.sum(privileged_favorable_cond, dtype=np.float64)\n",
    "privileged_unfavourable_count = np.sum(privileged_unfavorable_cond, dtype=np.float64)\n",
    "unprivileged_favourable_count = np.sum(unprivileged_favorable_cond, dtype=np.float64)\n",
    "unprivileged_unfavourable_count = np.sum(unprivileged_unfavorable_cond, dtype=np.float64)"
   ]
  },
  {
   "cell_type": "markdown",
   "metadata": {
    "id": "impObRfGurIs"
   },
   "source": [
    "Now, let us analyze above variables and see how the frequency of count is distributed for protected attribute."
   ]
  },
  {
   "cell_type": "code",
   "execution_count": 30,
   "metadata": {
    "colab": {
     "base_uri": "https://localhost:8080/",
     "height": 265
    },
    "id": "EwBHMe_ourIs",
    "outputId": "0e38d4d0-0822-4bed-94bd-e8e2f6d3e79a"
   },
   "outputs": [
    {
     "data": {
      "image/png": "[encoded data removed]",
      "text/plain": [
       "<Figure size 432x288 with 1 Axes>"
      ]
     },
     "metadata": {
      "needs_background": "light"
     },
     "output_type": "display_data"
    }
   ],
   "source": [
    "x = [\"privileged_favourable_count\", \"privileged_unfavourable_count\",\n",
    "     \"unprivileged_favourable_count\", \"unprivileged_unfavourable_count\"]\n",
    "y = [privileged_favourable_count, privileged_unfavourable_count, unprivileged_favourable_count,\n",
    "     unprivileged_unfavourable_count]\n",
    "plt.barh(x, y, color=['blue', 'green', 'orange', 'brown'])\n",
    "\n",
    "for index, value in enumerate(y):\n",
    "    plt.text(value, index,\n",
    "             str(value), fontweight='bold')\n",
    "plt.show()"
   ]
  },
  {
   "cell_type": "markdown",
   "metadata": {
    "id": "j7ACTmg5urIs"
   },
   "source": [
    "##### Privileged and unprivileged group outcomes"
   ]
  },
  {
   "cell_type": "code",
   "execution_count": 31,
   "metadata": {
    "colab": {
     "base_uri": "https://localhost:8080/",
     "height": 427
    },
    "id": "WujbP-Z6urIs",
    "outputId": "d74066be-0491-41bc-e8b3-6ab41f22d46b"
   },
   "outputs": [
    {
     "data": {
      "image/png": "[encoded data removed]",
      "text/plain": [
       "<Figure size 1080x1080 with 2 Axes>"
      ]
     },
     "metadata": {},
     "output_type": "display_data"
    }
   ],
   "source": [
    "labels_privileged = ['male - rated good', 'male - rated bad']\n",
    "sz_privileged = [privileged_favourable_count, privileged_unfavourable_count]\n",
    "labels_unprivileged = ['female - rated good', 'female - rated bad']\n",
    "sz_unpriveleged = [unprivileged_favourable_count, unprivileged_unfavourable_count]\n",
    "\n",
    "fig, (ax1, ax2) = plt.subplots(1, 2, figsize=(15, 15))\n",
    "ax1.pie(sz_privileged, labels=labels_privileged, autopct='%1.1f%%', shadow=True)\n",
    "ax1.title.set_text('Privileged class outcomes')\n",
    "\n",
    "ax2.pie(sz_unpriveleged, labels=labels_unprivileged, autopct='%1.1f%%', shadow=True)\n",
    "ax2.title.set_text('Unprivileged class outcomes')\n",
    "plt.show()"
   ]
  },
  {
   "cell_type": "markdown",
   "metadata": {
    "id": "492ALDWJurIt"
   },
   "source": [
    "There is a bias against the unprivileged group as privileged group gets 10.8% more positive outcomes."
   ]
  },
  {
   "cell_type": "markdown",
   "metadata": {},
   "source": [
    "## 2.2 Correlation Analysis"
   ]
  },
  {
   "cell_type": "code",
   "execution_count": 32,
   "metadata": {},
   "outputs": [
    {
     "name": "stdout",
     "output_type": "stream",
     "text": [
      "Correlation coefficient between age and people_liable_for : 0.11820083281906714\n"
     ]
    }
   ],
   "source": [
    "# Select the two features you want to assess for correlation\n",
    "feature1 = 'age' # status_sex\n",
    "feature2 = 'people_liable_for'\n",
    "\n",
    "# Calculate the correlation coefficient\n",
    "correlation_coefficient = dataframe[feature1].corr(dataframe[feature2])\n",
    "\n",
    "# Print the correlation coefficient\n",
    "print(\"Correlation coefficient between\", feature1, \"and\", feature2, \":\", correlation_coefficient)\n"
   ]
  },
  {
   "cell_type": "markdown",
   "metadata": {},
   "source": [
    "#### The correlation between the feature “A9:Personal status and sex” and the “Attribute 18:Number of people being liable to provide maintenance for”. is not possible due to their data types, so I choose \"Age\" instead on \"Personal_Status\"."
   ]
  },
  {
   "cell_type": "code",
   "execution_count": 33,
   "metadata": {
    "id": "9i5aTJarurIt"
   },
   "outputs": [],
   "source": [
    "# reweighing weights\n",
    "weight_privileged_favourable = favourable_count * privileged_count / (instance_count * privileged_favourable_count)\n",
    "weight_privileged_unfavourable = unfavourable_count * privileged_count / (instance_count * privileged_unfavourable_count)\n",
    "weight_unprivileged_favourable = favourable_count * unprivileged_count / (instance_count * unprivileged_favourable_count)\n",
    "weight_unprivileged_unfavourable = unfavourable_count * unprivileged_count / (instance_count * unprivileged_unfavourable_count)"
   ]
  },
  {
   "cell_type": "code",
   "execution_count": 34,
   "metadata": {
    "id": "AhGR_KlCurIt"
   },
   "outputs": [],
   "source": [
    "transformed_instance_weights = copy.deepcopy(instance_weights)"
   ]
  },
  {
   "cell_type": "code",
   "execution_count": 35,
   "metadata": {
    "id": "UdRZBor7urIt"
   },
   "outputs": [],
   "source": [
    "transformed_instance_weights[privileged_favorable_cond] *= weight_privileged_favourable\n",
    "transformed_instance_weights[privileged_unfavorable_cond] *= weight_privileged_unfavourable\n",
    "transformed_instance_weights[unprivileged_favorable_cond] *= weight_unprivileged_favourable\n",
    "transformed_instance_weights[unprivileged_unfavorable_cond] *= weight_unprivileged_unfavourable"
   ]
  },
  {
   "cell_type": "code",
   "execution_count": 36,
   "metadata": {
    "id": "PEmV-JJZurIt"
   },
   "outputs": [],
   "source": [
    "mitigated_spd = statistical_parity_difference(protected_attributes,\n",
    "                                          labels_train, transformed_instance_weights,\n",
    "                                          protected_attribute_names, favorable_label,\n",
    "                                          privileged_groups, unprivileged_groups)"
   ]
  },
  {
   "cell_type": "code",
   "execution_count": 37,
   "metadata": {},
   "outputs": [],
   "source": [
    "def plot_fairness_comp(original, mitigated, metric=\"SPD\"):\n",
    "    plt.figure(facecolor='#FFF00F', figsize=(4, 4))\n",
    "    plt.bar([\"Original\", \"Mitigated\"], [\n",
    "            original, mitigated], color=[\"blue\", \"green\"])\n",
    "    plt.ylabel(metric)\n",
    "    plt.title(\"Before vs After Bias Mitigation\", fontsize=15)\n",
    "    y = [original, mitigated]\n",
    "    for index, value in enumerate(y):\n",
    "        if value < 0:\n",
    "            plt.text(index, value - 0.001,\n",
    "                     str(round(value, 3)), fontweight='bold', color='red',\n",
    "                     bbox=dict(facecolor='red', alpha=0.4))\n",
    "        else:\n",
    "            plt.text(index, value + 0.001,\n",
    "                     str(round(value, 3)), fontweight='bold', color='red',\n",
    "                     bbox=dict(facecolor='red', alpha=0.4))\n",
    "    plt.grid(None, axis=\"y\")\n",
    "    plt.show()"
   ]
  },
  {
   "cell_type": "code",
   "execution_count": 38,
   "metadata": {
    "colab": {
     "base_uri": "https://localhost:8080/",
     "height": 283
    },
    "id": "G-eQi3PzurIu",
    "outputId": "704e7dd3-0575-4729-9208-03e64de86d77"
   },
   "outputs": [
    {
     "data": {
      "image/png": "[encoded data removed]",
      "text/plain": [
       "<Figure size 288x288 with 1 Axes>"
      ]
     },
     "metadata": {},
     "output_type": "display_data"
    }
   ],
   "source": [
    "plot_fairness_comp(abs(original_spd),abs(mitigated_spd),metric=\"SPD\")"
   ]
  },
  {
   "cell_type": "markdown",
   "metadata": {
    "id": "DmLwd3u0urIu"
   },
   "source": [
    "Reweighing algorithm has proven to be highly effective in reducing data bias, as it results in a Statistical Parity Difference of `zero`. This algorithm enables us to address and minimize bias in the data by adjusting the weights of certain groups.\n",
    "\n",
    "Now that we have both original and bias mitigated data, let's evaluate model fairness before and after bias mitigation."
   ]
  },
  {
   "cell_type": "markdown",
   "metadata": {
    "id": "RdjNC6_furIu"
   },
   "source": [
    "## 3. Classification Model for Credit-Risk Levels"
   ]
  },
  {
   "cell_type": "markdown",
   "metadata": {
    "id": "oAeMi-ZourIu"
   },
   "source": [
    "##### Compute fairness of the different ML models\n",
    "To compute model fairness SPD let us specify privileged & unprivileged groups, protected attributes and instance weights to be considered in the test data set."
   ]
  },
  {
   "cell_type": "code",
   "execution_count": 39,
   "metadata": {
    "id": "UkqckR0BurIu"
   },
   "outputs": [],
   "source": [
    "# protected attribute\n",
    "df_prot_test = test.loc[:, protected_attribute_names]\n",
    "protected_attributes_test = df_prot_test.values.copy()\n",
    "privileged_groups = [{'gender': 1}]\n",
    "unprivileged_groups = [{'gender': 0}]\n",
    "# equal weights for all classes by default in the testing dataset\n",
    "instance_weights_test = np.ones_like(test.index, dtype=np.float64)"
   ]
  },
  {
   "cell_type": "code",
   "execution_count": 40,
   "metadata": {
    "id": "23k6UTmHurIv"
   },
   "outputs": [],
   "source": [
    "# split the features and labels for both train and test data\n",
    "from sklearn.preprocessing import StandardScaler\n",
    "feature_names = [n for n in train.columns if n not in label_name]\n",
    "X_train, X_test, Y_train, Y_test = train[feature_names].values.copy(), test[\n",
    "    feature_names].values.copy(), train[label_name].values.copy(), test[label_name].values.copy()\n",
    "# standardize the inputs\n",
    "scale_orig = StandardScaler()\n",
    "X_train = scale_orig.fit_transform(X_train)\n",
    "X_test = scale_orig.fit_transform(X_test)"
   ]
  },
  {
   "cell_type": "code",
   "execution_count": 41,
   "metadata": {},
   "outputs": [],
   "source": [
    "## sklearn to work with ML models\n",
    "from sklearn.linear_model import LogisticRegression\n",
    "from sklearn.ensemble import RandomForestClassifier\n",
    "from sklearn.svm import SVC\n",
    "from sklearn.metrics import accuracy_score,confusion_matrix,roc_curve, auc"
   ]
  },
  {
   "cell_type": "code",
   "execution_count": 42,
   "metadata": {},
   "outputs": [],
   "source": [
    "def train_model(clf, x_train, y_train, **kwargs):\n",
    "    # Instantiate the classification model\n",
    "    if \"sample_weight\" in kwargs:\n",
    "        clf.fit(x_train, y_train.ravel(),\n",
    "                sample_weight=kwargs[\"sample_weight\"])\n",
    "    else:\n",
    "        clf.fit(x_train, y_train)\n",
    "    return clf"
   ]
  },
  {
   "cell_type": "code",
   "execution_count": 43,
   "metadata": {
    "id": "pckqtReLurIv"
   },
   "outputs": [],
   "source": [
    "# prepare list of models\n",
    "models = []\n",
    "models.append(('LR', LogisticRegression()))\n",
    "models.append(('RF', RandomForestClassifier(random_state=4)))\n",
    "models.append(('SVM', SVC(probability=True)))"
   ]
  },
  {
   "cell_type": "markdown",
   "metadata": {},
   "source": [
    "## 4. Evaluation of Model Fairness"
   ]
  },
  {
   "cell_type": "code",
   "execution_count": 44,
   "metadata": {
    "id": "gmwFhp3A0B6-"
   },
   "outputs": [],
   "source": [
    "ml_models, accuracy_list, roc_auc_list, spd_list = [], [], [], []\n",
    "for name, model in models:\n",
    "    # evaluate the base model\n",
    "    clf = train_model(model, X_train, Y_train,sample_weight=instance_weights)\n",
    "    y_score = clf.predict_proba(X_test)[:, 1]\n",
    "    predicted = (y_score > 0.5).astype(int)\n",
    "    accuracy = accuracy_score(Y_test, predicted)\n",
    "    fpr, tpr, _ = roc_curve(Y_test, predicted)\n",
    "    roc_auc = auc(fpr, tpr)\n",
    "    # compute SPD for base model\n",
    "    spd = statistical_parity_difference(protected_attributes_test,\n",
    "                                                  predicted, instance_weights_test,\n",
    "                                                  protected_attribute_names, favorable_label,\n",
    "                                                  privileged_groups, unprivileged_groups)\n",
    "    accuracy_list.append(accuracy)\n",
    "    roc_auc_list.append(roc_auc)\n",
    "    spd_list.append(spd)\n",
    "    ml_models.append(name)"
   ]
  },
  {
   "cell_type": "code",
   "execution_count": 45,
   "metadata": {
    "id": "sWQb5cUv0B6-"
   },
   "outputs": [],
   "source": [
    "before_debiasing = defaultdict(dict)\n",
    "before_debiasing[\"SPD\"] = spd_list\n",
    "before_debiasing[\"Accuracy\"] = accuracy_list\n",
    "before_debiasing[\"AUC\"] = roc_auc_list"
   ]
  },
  {
   "cell_type": "code",
   "execution_count": 46,
   "metadata": {
    "id": "KqVinEvD0B6_"
   },
   "outputs": [],
   "source": [
    "ml_models, accuracy_list, roc_auc_list, spd_list = [], [], [], []\n",
    "for name, model in models:\n",
    "    # evaluate the mitgated model\n",
    "    clf = train_model(model, X_train, Y_train,sample_weight=transformed_instance_weights)\n",
    "    y_score = clf.predict_proba(X_test)[:, 1]\n",
    "    predicted = (y_score > 0.5).astype(int)\n",
    "    accuracy = accuracy_score(Y_test, predicted)\n",
    "    fpr, tpr, _ = roc_curve(Y_test, predicted)\n",
    "    roc_auc = auc(fpr, tpr)\n",
    "    # compute SPD for base model\n",
    "    spd = statistical_parity_difference(protected_attributes_test,\n",
    "                                                  predicted, instance_weights_test,\n",
    "                                                  protected_attribute_names, favorable_label,\n",
    "                                                  privileged_groups, unprivileged_groups)\n",
    "    accuracy_list.append(accuracy)\n",
    "    roc_auc_list.append(roc_auc)\n",
    "    spd_list.append(spd)\n",
    "    ml_models.append(name)"
   ]
  },
  {
   "cell_type": "code",
   "execution_count": 47,
   "metadata": {
    "id": "ylTUfNwS0B6_"
   },
   "outputs": [],
   "source": [
    "after_debiasing = defaultdict(dict)\n",
    "after_debiasing[\"SPD\"] = spd_list\n",
    "after_debiasing[\"Accuracy\"] = accuracy_list\n",
    "after_debiasing[\"AUC\"] = roc_auc_list"
   ]
  },
  {
   "cell_type": "markdown",
   "metadata": {
    "id": "bcKZmgcFurIv"
   },
   "source": [
    "##### Graphical representation"
   ]
  },
  {
   "cell_type": "code",
   "execution_count": 48,
   "metadata": {
    "colab": {
     "base_uri": "https://localhost:8080/",
     "height": 350
    },
    "id": "FOj4OARUurIv",
    "outputId": "b0e1841b-43c2-4d35-9a76-57646ba181dd"
   },
   "outputs": [
    {
     "data": {
      "image/png": "[encoded data removed]",
      "text/plain": [
       "<Figure size 1800x288 with 3 Axes>"
      ]
     },
     "metadata": {
      "needs_background": "light"
     },
     "output_type": "display_data"
    }
   ],
   "source": [
    "def autolabel(rects, axes):\n",
    "        for rect in rects:\n",
    "            h = rect.get_height()\n",
    "            if h < 0:\n",
    "                axes.text(rect.get_x() + rect.get_width() / 2., h - 0.04, '%.2f' % float(h),\n",
    "                          ha='center', va='bottom')\n",
    "            else:\n",
    "                axes.text(rect.get_x() + rect.get_width() / 2., 1.02 * h, '%.2f' % float(h),\n",
    "                          ha='center', va='bottom')\n",
    "ind = np.arange(len(ml_models))  # the x locations for the groups\n",
    "width = 0.2  # the width of the bars\n",
    "\n",
    "fig, axs = plt.subplots(1, 3, figsize=(25, 4))\n",
    "\n",
    "for ax,metric in zip (axs.ravel(),after_debiasing.keys()):\n",
    "    fairness_base_bar = ax.bar(ind, before_debiasing[metric], width, color='r',\n",
    "                        label='Before bias mitigation')\n",
    "    fairness_mitigated_bar = ax.bar(ind + width, after_debiasing[metric], width, color='g',\n",
    "                                     label='After bias mitigation')\n",
    "    ax.set_ylabel(metric)\n",
    "    ax.set_xticks(ind + width)\n",
    "    ax.set_xticklabels(ml_models)\n",
    "    ax.title.set_text(metric)\n",
    "    autolabel(fairness_base_bar, axes=ax)\n",
    "    autolabel(fairness_mitigated_bar, axes=ax)\n",
    "plt.legend(loc =\"lower right\")\n",
    "plt.show()"
   ]
  },
  {
   "cell_type": "markdown",
   "metadata": {},
   "source": [
    "## 5. K-Anonymization for Data Anonymization"
   ]
  },
  {
   "cell_type": "code",
   "execution_count": 49,
   "metadata": {},
   "outputs": [
    {
     "data": {
      "text/html": [
       "<div>\n",
       "<style scoped>\n",
       "    .dataframe tbody tr th:only-of-type {\n",
       "        vertical-align: middle;\n",
       "    }\n",
       "\n",
       "    .dataframe tbody tr th {\n",
       "        vertical-align: top;\n",
       "    }\n",
       "\n",
       "    .dataframe thead th {\n",
       "        text-align: right;\n",
       "    }\n",
       "</style>\n",
       "<table border=\"1\" class=\"dataframe\">\n",
       "  <thead>\n",
       "    <tr style=\"text-align: right;\">\n",
       "      <th></th>\n",
       "      <th>status</th>\n",
       "      <th>month</th>\n",
       "      <th>credit_history</th>\n",
       "      <th>purpose</th>\n",
       "      <th>credit_amount</th>\n",
       "      <th>savings</th>\n",
       "      <th>employment</th>\n",
       "      <th>investment_as_income_percentage</th>\n",
       "      <th>personal_status</th>\n",
       "      <th>other_debtors</th>\n",
       "      <th>...</th>\n",
       "      <th>property</th>\n",
       "      <th>age</th>\n",
       "      <th>installment_plans</th>\n",
       "      <th>housing</th>\n",
       "      <th>number_of_credits</th>\n",
       "      <th>skill_level</th>\n",
       "      <th>people_liable_for</th>\n",
       "      <th>telephone</th>\n",
       "      <th>foreign_worker</th>\n",
       "      <th>credit</th>\n",
       "    </tr>\n",
       "  </thead>\n",
       "  <tbody>\n",
       "    <tr>\n",
       "      <th>0</th>\n",
       "      <td>A11</td>\n",
       "      <td>6</td>\n",
       "      <td>A34</td>\n",
       "      <td>A43</td>\n",
       "      <td>1169</td>\n",
       "      <td>A65</td>\n",
       "      <td>A75</td>\n",
       "      <td>4</td>\n",
       "      <td>A93</td>\n",
       "      <td>A101</td>\n",
       "      <td>...</td>\n",
       "      <td>A121</td>\n",
       "      <td>67</td>\n",
       "      <td>A143</td>\n",
       "      <td>A152</td>\n",
       "      <td>2</td>\n",
       "      <td>A173</td>\n",
       "      <td>1</td>\n",
       "      <td>A192</td>\n",
       "      <td>A201</td>\n",
       "      <td>1</td>\n",
       "    </tr>\n",
       "    <tr>\n",
       "      <th>1</th>\n",
       "      <td>A12</td>\n",
       "      <td>48</td>\n",
       "      <td>A32</td>\n",
       "      <td>A43</td>\n",
       "      <td>5951</td>\n",
       "      <td>A61</td>\n",
       "      <td>A73</td>\n",
       "      <td>2</td>\n",
       "      <td>A92</td>\n",
       "      <td>A101</td>\n",
       "      <td>...</td>\n",
       "      <td>A121</td>\n",
       "      <td>22</td>\n",
       "      <td>A143</td>\n",
       "      <td>A152</td>\n",
       "      <td>1</td>\n",
       "      <td>A173</td>\n",
       "      <td>1</td>\n",
       "      <td>A191</td>\n",
       "      <td>A201</td>\n",
       "      <td>2</td>\n",
       "    </tr>\n",
       "    <tr>\n",
       "      <th>2</th>\n",
       "      <td>A14</td>\n",
       "      <td>12</td>\n",
       "      <td>A34</td>\n",
       "      <td>A46</td>\n",
       "      <td>2096</td>\n",
       "      <td>A61</td>\n",
       "      <td>A74</td>\n",
       "      <td>2</td>\n",
       "      <td>A93</td>\n",
       "      <td>A101</td>\n",
       "      <td>...</td>\n",
       "      <td>A121</td>\n",
       "      <td>49</td>\n",
       "      <td>A143</td>\n",
       "      <td>A152</td>\n",
       "      <td>1</td>\n",
       "      <td>A172</td>\n",
       "      <td>2</td>\n",
       "      <td>A191</td>\n",
       "      <td>A201</td>\n",
       "      <td>1</td>\n",
       "    </tr>\n",
       "    <tr>\n",
       "      <th>3</th>\n",
       "      <td>A11</td>\n",
       "      <td>42</td>\n",
       "      <td>A32</td>\n",
       "      <td>A42</td>\n",
       "      <td>7882</td>\n",
       "      <td>A61</td>\n",
       "      <td>A74</td>\n",
       "      <td>2</td>\n",
       "      <td>A93</td>\n",
       "      <td>A103</td>\n",
       "      <td>...</td>\n",
       "      <td>A122</td>\n",
       "      <td>45</td>\n",
       "      <td>A143</td>\n",
       "      <td>A153</td>\n",
       "      <td>1</td>\n",
       "      <td>A173</td>\n",
       "      <td>2</td>\n",
       "      <td>A191</td>\n",
       "      <td>A201</td>\n",
       "      <td>1</td>\n",
       "    </tr>\n",
       "    <tr>\n",
       "      <th>4</th>\n",
       "      <td>A11</td>\n",
       "      <td>24</td>\n",
       "      <td>A33</td>\n",
       "      <td>A40</td>\n",
       "      <td>4870</td>\n",
       "      <td>A61</td>\n",
       "      <td>A73</td>\n",
       "      <td>3</td>\n",
       "      <td>A93</td>\n",
       "      <td>A101</td>\n",
       "      <td>...</td>\n",
       "      <td>A124</td>\n",
       "      <td>53</td>\n",
       "      <td>A143</td>\n",
       "      <td>A153</td>\n",
       "      <td>2</td>\n",
       "      <td>A173</td>\n",
       "      <td>2</td>\n",
       "      <td>A191</td>\n",
       "      <td>A201</td>\n",
       "      <td>2</td>\n",
       "    </tr>\n",
       "  </tbody>\n",
       "</table>\n",
       "<p>5 rows × 21 columns</p>\n",
       "</div>"
      ],
      "text/plain": [
       "  status  month credit_history purpose  credit_amount savings employment  \\\n",
       "0    A11      6            A34     A43           1169     A65        A75   \n",
       "1    A12     48            A32     A43           5951     A61        A73   \n",
       "2    A14     12            A34     A46           2096     A61        A74   \n",
       "3    A11     42            A32     A42           7882     A61        A74   \n",
       "4    A11     24            A33     A40           4870     A61        A73   \n",
       "\n",
       "   investment_as_income_percentage personal_status other_debtors  ...  \\\n",
       "0                                4             A93          A101  ...   \n",
       "1                                2             A92          A101  ...   \n",
       "2                                2             A93          A101  ...   \n",
       "3                                2             A93          A103  ...   \n",
       "4                                3             A93          A101  ...   \n",
       "\n",
       "   property age  installment_plans housing number_of_credits  skill_level  \\\n",
       "0      A121  67               A143    A152                 2         A173   \n",
       "1      A121  22               A143    A152                 1         A173   \n",
       "2      A121  49               A143    A152                 1         A172   \n",
       "3      A122  45               A143    A153                 1         A173   \n",
       "4      A124  53               A143    A153                 2         A173   \n",
       "\n",
       "  people_liable_for  telephone foreign_worker credit  \n",
       "0                 1       A192           A201      1  \n",
       "1                 1       A191           A201      2  \n",
       "2                 2       A191           A201      1  \n",
       "3                 2       A191           A201      1  \n",
       "4                 2       A191           A201      2  \n",
       "\n",
       "[5 rows x 21 columns]"
      ]
     },
     "execution_count": 49,
     "metadata": {},
     "output_type": "execute_result"
    }
   ],
   "source": [
    "import anonypy\n",
    "filepath = r'https://archive.ics.uci.edu/ml/machine-learning-databases/statlog/german/german.data'\n",
    "anon = load_dataset(filepath)\n",
    "anon.head()"
   ]
  },
  {
   "cell_type": "code",
   "execution_count": 50,
   "metadata": {},
   "outputs": [
    {
     "data": {
      "text/html": [
       "<div>\n",
       "<style scoped>\n",
       "    .dataframe tbody tr th:only-of-type {\n",
       "        vertical-align: middle;\n",
       "    }\n",
       "\n",
       "    .dataframe tbody tr th {\n",
       "        vertical-align: top;\n",
       "    }\n",
       "\n",
       "    .dataframe thead th {\n",
       "        text-align: right;\n",
       "    }\n",
       "</style>\n",
       "<table border=\"1\" class=\"dataframe\">\n",
       "  <thead>\n",
       "    <tr style=\"text-align: right;\">\n",
       "      <th></th>\n",
       "      <th>personal_status</th>\n",
       "      <th>purpose</th>\n",
       "      <th>age</th>\n",
       "    </tr>\n",
       "  </thead>\n",
       "  <tbody>\n",
       "    <tr>\n",
       "      <th>0</th>\n",
       "      <td>A93</td>\n",
       "      <td>A43</td>\n",
       "      <td>67</td>\n",
       "    </tr>\n",
       "    <tr>\n",
       "      <th>1</th>\n",
       "      <td>A92</td>\n",
       "      <td>A43</td>\n",
       "      <td>22</td>\n",
       "    </tr>\n",
       "    <tr>\n",
       "      <th>2</th>\n",
       "      <td>A93</td>\n",
       "      <td>A46</td>\n",
       "      <td>49</td>\n",
       "    </tr>\n",
       "    <tr>\n",
       "      <th>3</th>\n",
       "      <td>A93</td>\n",
       "      <td>A42</td>\n",
       "      <td>45</td>\n",
       "    </tr>\n",
       "    <tr>\n",
       "      <th>4</th>\n",
       "      <td>A93</td>\n",
       "      <td>A40</td>\n",
       "      <td>53</td>\n",
       "    </tr>\n",
       "  </tbody>\n",
       "</table>\n",
       "</div>"
      ],
      "text/plain": [
       "  personal_status purpose  age\n",
       "0             A93     A43   67\n",
       "1             A92     A43   22\n",
       "2             A93     A46   49\n",
       "3             A93     A42   45\n",
       "4             A93     A40   53"
      ]
     },
     "execution_count": 50,
     "metadata": {},
     "output_type": "execute_result"
    }
   ],
   "source": [
    "# I have chosen these 3 columns\n",
    "anon = anon[['personal_status', 'purpose', 'age']]\n",
    "\n",
    "anon.head()"
   ]
  },
  {
   "cell_type": "code",
   "execution_count": 51,
   "metadata": {},
   "outputs": [],
   "source": [
    "def k_anonymize(dataset, columns):\n",
    "\n",
    "    anon_dataset = dataset.copy()\n",
    "    \n",
    "    # Target all sensitive columns\n",
    "    for column in columns:\n",
    "        column_label = column['label']\n",
    "        if column['type'] == 'suppressed':\n",
    "            # Replace all characters with asterix\n",
    "            anon_dataset[column_label] = ['*' for x in anon_dataset[column_label]]\n",
    "        \n",
    "        if column['type'] == 'semi-suppressed':\n",
    "            # Replace 70% of the characters with asterix\n",
    "            anon_dataset[column_label] = [('*'*(round(len(x)*.7)) + x[(round(len(x)*.7)):]) for x in anon_dataset[column_label]]\n",
    "        \n",
    "        if column['type'] == 'generalized':\n",
    "            # Summarize the data using ranges\n",
    "            for i in range(len(anon_dataset[column_label])):\n",
    "                # convert column type from int to string\n",
    "                anon_dataset[column_label] = anon_dataset[column_label].astype(str)\n",
    "                x = int(anon_dataset[column_label][i])\n",
    "                if x <= 40: anon_dataset[column_label][i] =  \"0-40\"\n",
    "                if x > 40 and x <= 60: anon_dataset[column_label][i] =  \"40-60\"\n",
    "                if x > 60 and x <= 100: anon_dataset[column_label][i] =  \"> 60\"\n",
    "\n",
    "    return anon_dataset\n",
    "\n",
    "# Describe the columns and their respective anonymization type\n",
    "columns = [{\"label\": \"personal_status\", \"type\": \"suppressed\"},\n",
    "    {\"label\": \"purpose\", \"type\": \"semi-suppressed\"},\n",
    "    {\"label\": \"age\", \"type\": \"generalized\"}]\n",
    "dataset = anon\n",
    "anonymized_dataset = k_anonymize(dataset, columns)"
   ]
  },
  {
   "cell_type": "code",
   "execution_count": 52,
   "metadata": {},
   "outputs": [
    {
     "data": {
      "text/html": [
       "<div>\n",
       "<style scoped>\n",
       "    .dataframe tbody tr th:only-of-type {\n",
       "        vertical-align: middle;\n",
       "    }\n",
       "\n",
       "    .dataframe tbody tr th {\n",
       "        vertical-align: top;\n",
       "    }\n",
       "\n",
       "    .dataframe thead th {\n",
       "        text-align: right;\n",
       "    }\n",
       "</style>\n",
       "<table border=\"1\" class=\"dataframe\">\n",
       "  <thead>\n",
       "    <tr style=\"text-align: right;\">\n",
       "      <th></th>\n",
       "      <th>personal_status</th>\n",
       "      <th>purpose</th>\n",
       "      <th>age</th>\n",
       "    </tr>\n",
       "  </thead>\n",
       "  <tbody>\n",
       "    <tr>\n",
       "      <th>0</th>\n",
       "      <td>A93</td>\n",
       "      <td>A43</td>\n",
       "      <td>67</td>\n",
       "    </tr>\n",
       "    <tr>\n",
       "      <th>1</th>\n",
       "      <td>A92</td>\n",
       "      <td>A43</td>\n",
       "      <td>22</td>\n",
       "    </tr>\n",
       "    <tr>\n",
       "      <th>2</th>\n",
       "      <td>A93</td>\n",
       "      <td>A46</td>\n",
       "      <td>49</td>\n",
       "    </tr>\n",
       "    <tr>\n",
       "      <th>3</th>\n",
       "      <td>A93</td>\n",
       "      <td>A42</td>\n",
       "      <td>45</td>\n",
       "    </tr>\n",
       "    <tr>\n",
       "      <th>4</th>\n",
       "      <td>A93</td>\n",
       "      <td>A40</td>\n",
       "      <td>53</td>\n",
       "    </tr>\n",
       "  </tbody>\n",
       "</table>\n",
       "</div>"
      ],
      "text/plain": [
       "  personal_status purpose  age\n",
       "0             A93     A43   67\n",
       "1             A92     A43   22\n",
       "2             A93     A46   49\n",
       "3             A93     A42   45\n",
       "4             A93     A40   53"
      ]
     },
     "execution_count": 52,
     "metadata": {},
     "output_type": "execute_result"
    }
   ],
   "source": [
    "anon.head()"
   ]
  },
  {
   "cell_type": "code",
   "execution_count": 53,
   "metadata": {},
   "outputs": [
    {
     "data": {
      "text/html": [
       "<div>\n",
       "<style scoped>\n",
       "    .dataframe tbody tr th:only-of-type {\n",
       "        vertical-align: middle;\n",
       "    }\n",
       "\n",
       "    .dataframe tbody tr th {\n",
       "        vertical-align: top;\n",
       "    }\n",
       "\n",
       "    .dataframe thead th {\n",
       "        text-align: right;\n",
       "    }\n",
       "</style>\n",
       "<table border=\"1\" class=\"dataframe\">\n",
       "  <thead>\n",
       "    <tr style=\"text-align: right;\">\n",
       "      <th></th>\n",
       "      <th>personal_status</th>\n",
       "      <th>purpose</th>\n",
       "      <th>age</th>\n",
       "    </tr>\n",
       "  </thead>\n",
       "  <tbody>\n",
       "    <tr>\n",
       "      <th>0</th>\n",
       "      <td>*</td>\n",
       "      <td>**3</td>\n",
       "      <td>&gt; 60</td>\n",
       "    </tr>\n",
       "    <tr>\n",
       "      <th>1</th>\n",
       "      <td>*</td>\n",
       "      <td>**3</td>\n",
       "      <td>0-40</td>\n",
       "    </tr>\n",
       "    <tr>\n",
       "      <th>2</th>\n",
       "      <td>*</td>\n",
       "      <td>**6</td>\n",
       "      <td>40-60</td>\n",
       "    </tr>\n",
       "    <tr>\n",
       "      <th>3</th>\n",
       "      <td>*</td>\n",
       "      <td>**2</td>\n",
       "      <td>40-60</td>\n",
       "    </tr>\n",
       "    <tr>\n",
       "      <th>4</th>\n",
       "      <td>*</td>\n",
       "      <td>**0</td>\n",
       "      <td>40-60</td>\n",
       "    </tr>\n",
       "  </tbody>\n",
       "</table>\n",
       "</div>"
      ],
      "text/plain": [
       "  personal_status purpose    age\n",
       "0               *     **3   > 60\n",
       "1               *     **3   0-40\n",
       "2               *     **6  40-60\n",
       "3               *     **2  40-60\n",
       "4               *     **0  40-60"
      ]
     },
     "execution_count": 53,
     "metadata": {},
     "output_type": "execute_result"
    }
   ],
   "source": [
    "anonymized_dataset.head()"
   ]
  },
  {
   "cell_type": "code",
   "execution_count": null,
   "metadata": {},
   "outputs": [],
   "source": []
  },
  {
   "cell_type": "code",
   "execution_count": null,
   "metadata": {},
   "outputs": [],
   "source": []
  },
  {
   "cell_type": "code",
   "execution_count": null,
   "metadata": {},
   "outputs": [],
   "source": []
  },
  {
   "cell_type": "code",
   "execution_count": null,
   "metadata": {},
   "outputs": [],
   "source": []
  }
 ],
 "metadata": {
  "colab": {
   "name": "gender_bias_mitigation_german_cc.ipynb",
   "provenance": []
  },
  "kernelspec": {
   "display_name": "Python 3",
   "language": "python",
   "name": "python3"
  },
  "language_info": {
   "codemirror_mode": {
    "name": "ipython",
    "version": 3
   },
   "file_extension": ".py",
   "mimetype": "text/x-python",
   "name": "python",
   "nbconvert_exporter": "python",
   "pygments_lexer": "ipython3",
   "version": "3.8.8"
  }
 },
 "nbformat": 4,
 "nbformat_minor": 1
}
